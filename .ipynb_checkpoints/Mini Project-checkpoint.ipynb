{
 "cells": [
  {
   "cell_type": "markdown",
   "id": "0a982d9f",
   "metadata": {},
   "source": [
    "## CS105 Mini-Project\n",
    "Worked in by:\n",
    "\n",
    "**Kevin Chin, Muhammad Memon, Zain Ashraf, Zian Ibrahim**"
   ]
  },
  {
   "cell_type": "code",
   "execution_count": 1,
   "id": "92296e22",
   "metadata": {},
   "outputs": [
    {
     "data": {
      "text/html": [
       "<div>\n",
       "<style scoped>\n",
       "    .dataframe tbody tr th:only-of-type {\n",
       "        vertical-align: middle;\n",
       "    }\n",
       "\n",
       "    .dataframe tbody tr th {\n",
       "        vertical-align: top;\n",
       "    }\n",
       "\n",
       "    .dataframe thead th {\n",
       "        text-align: right;\n",
       "    }\n",
       "</style>\n",
       "<table border=\"1\" class=\"dataframe\">\n",
       "  <thead>\n",
       "    <tr style=\"text-align: right;\">\n",
       "      <th></th>\n",
       "      <th>What is your current class standing?</th>\n",
       "      <th>What is your gender?</th>\n",
       "      <th>Do you currently have a job?</th>\n",
       "      <th>If you have a job, how much do you work per week?</th>\n",
       "      <th>If you have a job, do you work on or off campus?</th>\n",
       "      <th>What is your GPA?</th>\n",
       "      <th>How satisfied are you with your current GPA?</th>\n",
       "      <th>How many classes are you taking this quarter?</th>\n",
       "      <th>How many hours per week do you typically spend studying/preparing for class (reading ahead, homework, general studying, etc.)?</th>\n",
       "    </tr>\n",
       "  </thead>\n",
       "  <tbody>\n",
       "    <tr>\n",
       "      <th>0</th>\n",
       "      <td>Senior</td>\n",
       "      <td>Male</td>\n",
       "      <td>0.0</td>\n",
       "      <td>0.0</td>\n",
       "      <td>0.0</td>\n",
       "      <td>NaN</td>\n",
       "      <td>NaN</td>\n",
       "      <td>NaN</td>\n",
       "      <td>NaN</td>\n",
       "    </tr>\n",
       "    <tr>\n",
       "      <th>1</th>\n",
       "      <td>Junior</td>\n",
       "      <td>Male</td>\n",
       "      <td>0.0</td>\n",
       "      <td>0.0</td>\n",
       "      <td>0.0</td>\n",
       "      <td>NaN</td>\n",
       "      <td>NaN</td>\n",
       "      <td>NaN</td>\n",
       "      <td>NaN</td>\n",
       "    </tr>\n",
       "    <tr>\n",
       "      <th>2</th>\n",
       "      <td>Senior</td>\n",
       "      <td>Female</td>\n",
       "      <td>0.0</td>\n",
       "      <td>0.0</td>\n",
       "      <td>0.0</td>\n",
       "      <td>NaN</td>\n",
       "      <td>NaN</td>\n",
       "      <td>NaN</td>\n",
       "      <td>NaN</td>\n",
       "    </tr>\n",
       "    <tr>\n",
       "      <th>3</th>\n",
       "      <td>Junior</td>\n",
       "      <td>Male</td>\n",
       "      <td>0.0</td>\n",
       "      <td>0.0</td>\n",
       "      <td>0.0</td>\n",
       "      <td>NaN</td>\n",
       "      <td>NaN</td>\n",
       "      <td>NaN</td>\n",
       "      <td>NaN</td>\n",
       "    </tr>\n",
       "    <tr>\n",
       "      <th>4</th>\n",
       "      <td>Senior</td>\n",
       "      <td>Male</td>\n",
       "      <td>0.0</td>\n",
       "      <td>0.0</td>\n",
       "      <td>0.0</td>\n",
       "      <td>NaN</td>\n",
       "      <td>NaN</td>\n",
       "      <td>NaN</td>\n",
       "      <td>NaN</td>\n",
       "    </tr>\n",
       "  </tbody>\n",
       "</table>\n",
       "</div>"
      ],
      "text/plain": [
       "  What is your current class standing? What is your gender?  \\\n",
       "0                               Senior                 Male   \n",
       "1                               Junior                 Male   \n",
       "2                               Senior               Female   \n",
       "3                               Junior                 Male   \n",
       "4                               Senior                 Male   \n",
       "\n",
       "   Do you currently have a job?  \\\n",
       "0                           0.0   \n",
       "1                           0.0   \n",
       "2                           0.0   \n",
       "3                           0.0   \n",
       "4                           0.0   \n",
       "\n",
       "   If you have a job, how much do you work per week?  \\\n",
       "0                                                0.0   \n",
       "1                                                0.0   \n",
       "2                                                0.0   \n",
       "3                                                0.0   \n",
       "4                                                0.0   \n",
       "\n",
       "   If you have a job, do you work on or off campus?  What is your GPA?  \\\n",
       "0                                               0.0                NaN   \n",
       "1                                               0.0                NaN   \n",
       "2                                               0.0                NaN   \n",
       "3                                               0.0                NaN   \n",
       "4                                               0.0                NaN   \n",
       "\n",
       "   How satisfied are you with your current GPA?  \\\n",
       "0                                           NaN   \n",
       "1                                           NaN   \n",
       "2                                           NaN   \n",
       "3                                           NaN   \n",
       "4                                           NaN   \n",
       "\n",
       "   How many classes are you taking this quarter?  \\\n",
       "0                                            NaN   \n",
       "1                                            NaN   \n",
       "2                                            NaN   \n",
       "3                                            NaN   \n",
       "4                                            NaN   \n",
       "\n",
       "   How many hours per week do you typically spend studying/preparing for class (reading ahead, homework, general studying, etc.)?  \n",
       "0                                                NaN                                                                               \n",
       "1                                                NaN                                                                               \n",
       "2                                                NaN                                                                               \n",
       "3                                                NaN                                                                               \n",
       "4                                                NaN                                                                               "
      ]
     },
     "execution_count": 1,
     "metadata": {},
     "output_type": "execute_result"
    }
   ],
   "source": [
    "import pandas as pd\n",
    "import matplotlib.pyplot as plt\n",
    "import seaborn as sns\n",
    "\n",
    "df = pd.read_csv(\"sample_data.csv\")\n",
    "cleaned_df = df.loc[:, ['What is your current class standing?', 'What is your gender?', 'Do you currently have a job?', \n",
    "                    'If you have a job, how much do you work per week?', \n",
    "                    'If you have a job, do you work on or off campus?', \n",
    "                    'What is your GPA?', \n",
    "                    'How satisfied are you with your current GPA?',\n",
    "                    'How many classes are you taking this quarter?', \n",
    "                    'How many hours per week do you typically spend studying/preparing for class (reading ahead, homework, general studying, etc.)?']]\n",
    "cleaned_df.loc[:, 'Do you currently have a job?'] = cleaned_df.loc[:, 'Do you currently have a job?'].fillna(0)\n",
    "cleaned_df.loc[:, 'If you have a job, how much do you work per week?'] = cleaned_df.loc[:, 'If you have a job, how much do you work per week?'].fillna(0)\n",
    "cleaned_df.loc[:, 'If you have a job, do you work on or off campus?'] = cleaned_df.loc[:, 'If you have a job, do you work on or off campus?'].fillna(0)\n",
    "cleaned_df.head()"
   ]
  },
  {
   "cell_type": "markdown",
   "id": "e8b4a3dd-1e79-41db-9564-e77f64420870",
   "metadata": {},
   "source": [
    "## 1. What we are Anaylsing\n",
    "\n",
    "The data we have for this anaylsis is some general information of the students. For example, we have the class standing, gender, gpa, how satisfied they are with the gpa, how much time they spend in studying and the number of classes thet are taking this quarter.\n",
    "\n",
    "We also have data in regards to them having a job. For example, we have data on whether they have a job or not, if they work on campus or off campus and how an estimate of how many hours a week they work\n",
    "\n",
    "## 2. The Correlation we are observing\n",
    "What we are trying to see through this data is the correlation of having a job and a students academic performace. \n",
    "We will examine and anaylse the data using several factors to see the correlation. "
   ]
  },
  {
   "cell_type": "markdown",
   "id": "ff5fea96",
   "metadata": {},
   "source": [
    "## 3.1 Relationship between Genders and Jobs"
   ]
  },
  {
   "cell_type": "code",
   "execution_count": 2,
   "id": "0a3c04b4",
   "metadata": {
    "scrolled": true
   },
   "outputs": [
    {
     "data": {
      "text/plain": [
       "<Axes: xlabel='What is your gender?'>"
      ]
     },
     "execution_count": 2,
     "metadata": {},
     "output_type": "execute_result"
    },
    {
     "data": {
      "image/png": "[encoded data removed]",
      "text/plain": [
       "<Figure size 640x480 with 1 Axes>"
      ]
     },
     "metadata": {},
     "output_type": "display_data"
    }
   ],
   "source": [
    "genderGroupingTable = pd.crosstab(cleaned_df['What is your gender?'], cleaned_df['Do you currently have a job?'])\n",
    "genderGroupingTable.plot.bar(stacked = True)"
   ]
  },
  {
   "cell_type": "markdown",
   "id": "f3abaebf",
   "metadata": {},
   "source": [
    "For this anaylsis, we will simply count the number of individuals from each gender that have a job and those who don't. We will then display it in a stacked bar graph to see an accurate represnetaion of each genders job situation.\n",
    "\n",
    "In this data we notice that an equal proportion of Male and Female students who participated in this survey have a job."
   ]
  },
  {
   "cell_type": "markdown",
   "id": "40a71413",
   "metadata": {},
   "source": [
    "## 3.2 Students GPA in Relation to Job"
   ]
  },
  {
   "cell_type": "code",
   "execution_count": 3,
   "id": "f87cd902",
   "metadata": {},
   "outputs": [
    {
     "name": "stdout",
     "output_type": "stream",
     "text": [
      "Series([], Name: count, dtype: int64)\n"
     ]
    },
    {
     "ename": "ValueError",
     "evalue": "min() arg is an empty sequence",
     "output_type": "error",
     "traceback": [
      "\u001b[0;31m---------------------------------------------------------------------------\u001b[0m",
      "\u001b[0;31mValueError\u001b[0m                                Traceback (most recent call last)",
      "Cell \u001b[0;32mIn[3], line 11\u001b[0m\n\u001b[1;32m      4\u001b[0m \u001b[38;5;28mprint\u001b[39m(job_counts)\n\u001b[1;32m      6\u001b[0m newTable \u001b[38;5;241m=\u001b[39m newTable\u001b[38;5;241m.\u001b[39mreplace({\n\u001b[1;32m      7\u001b[0m     \u001b[38;5;124m'\u001b[39m\u001b[38;5;124mWhat is your GPA?\u001b[39m\u001b[38;5;124m'\u001b[39m: {\u001b[38;5;124m'\u001b[39m\u001b[38;5;124m3.5-4.0\u001b[39m\u001b[38;5;124m'\u001b[39m: \u001b[38;5;241m3.75\u001b[39m, \u001b[38;5;124m'\u001b[39m\u001b[38;5;124m3.0-3.5\u001b[39m\u001b[38;5;124m'\u001b[39m: \u001b[38;5;241m3.25\u001b[39m, \u001b[38;5;124m'\u001b[39m\u001b[38;5;124m2.5-3.0\u001b[39m\u001b[38;5;124m'\u001b[39m: \u001b[38;5;241m2.75\u001b[39m, \u001b[38;5;124m'\u001b[39m\u001b[38;5;124m2.0-2.5\u001b[39m\u001b[38;5;124m'\u001b[39m: \u001b[38;5;241m2.25\u001b[39m, \u001b[38;5;124m'\u001b[39m\u001b[38;5;124m<2.0\u001b[39m\u001b[38;5;124m'\u001b[39m: \u001b[38;5;241m1.5\u001b[39m}\n\u001b[1;32m      8\u001b[0m })\n\u001b[0;32m---> 11\u001b[0m sns\u001b[38;5;241m.\u001b[39mviolinplot(y \u001b[38;5;241m=\u001b[39m newTable[\u001b[38;5;124m'\u001b[39m\u001b[38;5;124mWhat is your GPA?\u001b[39m\u001b[38;5;124m'\u001b[39m], x \u001b[38;5;241m=\u001b[39m newTable[\u001b[38;5;124m'\u001b[39m\u001b[38;5;124mDo you currently have a job?\u001b[39m\u001b[38;5;124m'\u001b[39m])\n\u001b[1;32m     13\u001b[0m plt\u001b[38;5;241m.\u001b[39mtitle(\u001b[38;5;124m'\u001b[39m\u001b[38;5;124mViolin Plot of GPA vs. Job Status\u001b[39m\u001b[38;5;124m'\u001b[39m)\n\u001b[1;32m     14\u001b[0m plt\u001b[38;5;241m.\u001b[39mxlabel(\u001b[38;5;124m'\u001b[39m\u001b[38;5;124mJob Status\u001b[39m\u001b[38;5;124m'\u001b[39m)\n",
      "File \u001b[0;32m~/anaconda3/lib/python3.11/site-packages/seaborn/categorical.py:2305\u001b[0m, in \u001b[0;36mviolinplot\u001b[0;34m(data, x, y, hue, order, hue_order, bw, cut, scale, scale_hue, gridsize, width, inner, split, dodge, orient, linewidth, color, palette, saturation, ax, **kwargs)\u001b[0m\n\u001b[1;32m   2297\u001b[0m \u001b[38;5;28;01mdef\u001b[39;00m \u001b[38;5;21mviolinplot\u001b[39m(\n\u001b[1;32m   2298\u001b[0m     data\u001b[38;5;241m=\u001b[39m\u001b[38;5;28;01mNone\u001b[39;00m, \u001b[38;5;241m*\u001b[39m, x\u001b[38;5;241m=\u001b[39m\u001b[38;5;28;01mNone\u001b[39;00m, y\u001b[38;5;241m=\u001b[39m\u001b[38;5;28;01mNone\u001b[39;00m, hue\u001b[38;5;241m=\u001b[39m\u001b[38;5;28;01mNone\u001b[39;00m, order\u001b[38;5;241m=\u001b[39m\u001b[38;5;28;01mNone\u001b[39;00m, hue_order\u001b[38;5;241m=\u001b[39m\u001b[38;5;28;01mNone\u001b[39;00m,\n\u001b[1;32m   2299\u001b[0m     bw\u001b[38;5;241m=\u001b[39m\u001b[38;5;124m\"\u001b[39m\u001b[38;5;124mscott\u001b[39m\u001b[38;5;124m\"\u001b[39m, cut\u001b[38;5;241m=\u001b[39m\u001b[38;5;241m2\u001b[39m, scale\u001b[38;5;241m=\u001b[39m\u001b[38;5;124m\"\u001b[39m\u001b[38;5;124marea\u001b[39m\u001b[38;5;124m\"\u001b[39m, scale_hue\u001b[38;5;241m=\u001b[39m\u001b[38;5;28;01mTrue\u001b[39;00m, gridsize\u001b[38;5;241m=\u001b[39m\u001b[38;5;241m100\u001b[39m,\n\u001b[0;32m   (...)\u001b[0m\n\u001b[1;32m   2302\u001b[0m     ax\u001b[38;5;241m=\u001b[39m\u001b[38;5;28;01mNone\u001b[39;00m, \u001b[38;5;241m*\u001b[39m\u001b[38;5;241m*\u001b[39mkwargs,\n\u001b[1;32m   2303\u001b[0m ):\n\u001b[0;32m-> 2305\u001b[0m     plotter \u001b[38;5;241m=\u001b[39m _ViolinPlotter(x, y, hue, data, order, hue_order,\n\u001b[1;32m   2306\u001b[0m                              bw, cut, scale, scale_hue, gridsize,\n\u001b[1;32m   2307\u001b[0m                              width, inner, split, dodge, orient, linewidth,\n\u001b[1;32m   2308\u001b[0m                              color, palette, saturation)\n\u001b[1;32m   2310\u001b[0m     \u001b[38;5;28;01mif\u001b[39;00m ax \u001b[38;5;129;01mis\u001b[39;00m \u001b[38;5;28;01mNone\u001b[39;00m:\n\u001b[1;32m   2311\u001b[0m         ax \u001b[38;5;241m=\u001b[39m plt\u001b[38;5;241m.\u001b[39mgca()\n",
      "File \u001b[0;32m~/anaconda3/lib/python3.11/site-packages/seaborn/categorical.py:902\u001b[0m, in \u001b[0;36m_ViolinPlotter.__init__\u001b[0;34m(self, x, y, hue, data, order, hue_order, bw, cut, scale, scale_hue, gridsize, width, inner, split, dodge, orient, linewidth, color, palette, saturation)\u001b[0m\n\u001b[1;32m    896\u001b[0m \u001b[38;5;28;01mdef\u001b[39;00m \u001b[38;5;21m__init__\u001b[39m(\u001b[38;5;28mself\u001b[39m, x, y, hue, data, order, hue_order,\n\u001b[1;32m    897\u001b[0m              bw, cut, scale, scale_hue, gridsize,\n\u001b[1;32m    898\u001b[0m              width, inner, split, dodge, orient, linewidth,\n\u001b[1;32m    899\u001b[0m              color, palette, saturation):\n\u001b[1;32m    901\u001b[0m     \u001b[38;5;28mself\u001b[39m\u001b[38;5;241m.\u001b[39mestablish_variables(x, y, hue, data, orient, order, hue_order)\n\u001b[0;32m--> 902\u001b[0m     \u001b[38;5;28mself\u001b[39m\u001b[38;5;241m.\u001b[39mestablish_colors(color, palette, saturation)\n\u001b[1;32m    903\u001b[0m     \u001b[38;5;28mself\u001b[39m\u001b[38;5;241m.\u001b[39mestimate_densities(bw, cut, scale, scale_hue, gridsize)\n\u001b[1;32m    905\u001b[0m     \u001b[38;5;28mself\u001b[39m\u001b[38;5;241m.\u001b[39mgridsize \u001b[38;5;241m=\u001b[39m gridsize\n",
      "File \u001b[0;32m~/anaconda3/lib/python3.11/site-packages/seaborn/categorical.py:707\u001b[0m, in \u001b[0;36m_CategoricalPlotter.establish_colors\u001b[0;34m(self, color, palette, saturation)\u001b[0m\n\u001b[1;32m    705\u001b[0m \u001b[38;5;66;03m# Determine the gray color to use for the lines framing the plot\u001b[39;00m\n\u001b[1;32m    706\u001b[0m light_vals \u001b[38;5;241m=\u001b[39m [rgb_to_hls(\u001b[38;5;241m*\u001b[39mc)[\u001b[38;5;241m1\u001b[39m] \u001b[38;5;28;01mfor\u001b[39;00m c \u001b[38;5;129;01min\u001b[39;00m rgb_colors]\n\u001b[0;32m--> 707\u001b[0m lum \u001b[38;5;241m=\u001b[39m \u001b[38;5;28mmin\u001b[39m(light_vals) \u001b[38;5;241m*\u001b[39m \u001b[38;5;241m.6\u001b[39m\n\u001b[1;32m    708\u001b[0m gray \u001b[38;5;241m=\u001b[39m mpl\u001b[38;5;241m.\u001b[39mcolors\u001b[38;5;241m.\u001b[39mrgb2hex((lum, lum, lum))\n\u001b[1;32m    710\u001b[0m \u001b[38;5;66;03m# Assign object attributes\u001b[39;00m\n",
      "\u001b[0;31mValueError\u001b[0m: min() arg is an empty sequence"
     ]
    }
   ],
   "source": [
    "newTable = cleaned_df.loc[:, ['What is your GPA?', 'Do you currently have a job?']]\n",
    "newTable = newTable[newTable['Do you currently have a job?'] != 0]\n",
    "job_counts = newTable['Do you currently have a job?'].value_counts()\n",
    "print(job_counts)\n",
    "\n",
    "newTable = newTable.replace({\n",
    "    'What is your GPA?': {'3.5-4.0': 3.75, '3.0-3.5': 3.25, '2.5-3.0': 2.75, '2.0-2.5': 2.25, '<2.0': 1.5}\n",
    "})\n",
    "\n",
    "\n",
    "sns.violinplot(y = newTable['What is your GPA?'], x = newTable['Do you currently have a job?'])\n",
    "\n",
    "plt.title('Violin Plot of GPA vs. Job Status')\n",
    "plt.xlabel('Job Status')\n",
    "plt.ylabel('GPA')\n"
   ]
  },
  {
   "cell_type": "markdown",
   "id": "3f3db2d4",
   "metadata": {},
   "source": [
    "Explanation of what we did and what result we got\n",
    "\n",
    "Kevin"
   ]
  },
  {
   "cell_type": "markdown",
   "id": "e2a7eb3d",
   "metadata": {},
   "source": [
    "## 3.3 Relationship between having a job and their satisfaction of GPA"
   ]
  },
  {
   "cell_type": "code",
   "execution_count": null,
   "id": "37c59f5e",
   "metadata": {
    "scrolled": true
   },
   "outputs": [],
   "source": [
    "Job_SGPA_Pie = pd.crosstab(cleaned_df['Do you currently have a job?'], cleaned_df['How satisfied are you with your current GPA?'])\n",
    "Job_SGPA_Pie.plot.pie(subplots=True, autopct='%1.1f%%', figsize=(20, 20))\n",
    "\n",
    "plt.title('Satisfaction of GPA vs Having a Job')\n",
    "plt.show()"
   ]
  },
  {
   "cell_type": "markdown",
   "id": "7f9f1dd4",
   "metadata": {},
   "source": [
    "Explanation of what we did and what result we got\n",
    "\n",
    "Kevin\n",
    "\n"
   ]
  },
  {
   "cell_type": "markdown",
   "id": "c66d05ab",
   "metadata": {},
   "source": [
    "## 3.4 Relationship between having a job (hours they work), the amount they study and their GPA"
   ]
  },
  {
   "cell_type": "code",
   "execution_count": null,
   "id": "1bcbda5c",
   "metadata": {},
   "outputs": [],
   "source": [
    "#Muhammad"
   ]
  },
  {
   "cell_type": "markdown",
   "id": "233a4a9c",
   "metadata": {},
   "source": [
    "Explanation of what we did and what result we got"
   ]
  },
  {
   "cell_type": "markdown",
   "id": "e752f41f",
   "metadata": {},
   "source": [
    "## 3.5 Relationship between GPA of working on campus and off campus"
   ]
  },
  {
   "cell_type": "code",
   "execution_count": null,
   "id": "5a35d5a2",
   "metadata": {},
   "outputs": [],
   "source": [
    "#zain"
   ]
  },
  {
   "cell_type": "markdown",
   "id": "265339fc",
   "metadata": {},
   "source": [
    "Explanation of what we did and what result we got"
   ]
  },
  {
   "cell_type": "markdown",
   "id": "2faaaea4",
   "metadata": {},
   "source": [
    "## 3.6 Relationship between having a job, amount of classes they take and their gpa"
   ]
  },
  {
   "cell_type": "code",
   "execution_count": null,
   "id": "5285203e",
   "metadata": {},
   "outputs": [],
   "source": [
    "#Zian"
   ]
  },
  {
   "cell_type": "markdown",
   "id": "401c350b",
   "metadata": {},
   "source": [
    "Explanation of what we did and what result we got"
   ]
  },
  {
   "cell_type": "markdown",
   "id": "4b321348",
   "metadata": {},
   "source": [
    "## 3.7 more questions"
   ]
  },
  {
   "cell_type": "code",
   "execution_count": null,
   "id": "b6d99787",
   "metadata": {},
   "outputs": [],
   "source": [
    "#Zain"
   ]
  },
  {
   "cell_type": "markdown",
   "id": "303c580a",
   "metadata": {},
   "source": [
    "Explanation of what we did and what result we got"
   ]
  },
  {
   "cell_type": "markdown",
   "id": "4df777b3",
   "metadata": {},
   "source": [
    "## 3.8 More Questions"
   ]
  },
  {
   "cell_type": "code",
   "execution_count": null,
   "id": "ae162ff9",
   "metadata": {},
   "outputs": [],
   "source": [
    "#Zian"
   ]
  },
  {
   "cell_type": "markdown",
   "id": "d5c4f33a",
   "metadata": {},
   "source": [
    "Explanation of what we did and what result we got"
   ]
  },
  {
   "cell_type": "markdown",
   "id": "55f6ac6a",
   "metadata": {},
   "source": [
    "## 4.1 Hypothesis 1\n",
    "**Insert Hypothesis here**"
   ]
  },
  {
   "cell_type": "markdown",
   "id": "26259782",
   "metadata": {},
   "source": [
    "Explain the test being used"
   ]
  },
  {
   "cell_type": "code",
   "execution_count": null,
   "id": "dd066405",
   "metadata": {},
   "outputs": [],
   "source": [
    "# Do test here\n",
    "# I am udpating this on my branch lets see what happens"
   ]
  },
  {
   "cell_type": "markdown",
   "id": "ed33e4e2",
   "metadata": {},
   "source": [
    "Explain Result of test"
   ]
  },
  {
   "cell_type": "markdown",
   "id": "fa86df77",
   "metadata": {},
   "source": [
    "## 4.2 Hypothesis 2\n",
    "**Insert Hypothesis here**"
   ]
  },
  {
   "cell_type": "markdown",
   "id": "7b00aab3",
   "metadata": {},
   "source": [
    "Explain the test being used"
   ]
  },
  {
   "cell_type": "code",
   "execution_count": null,
   "id": "400dc32e",
   "metadata": {},
   "outputs": [],
   "source": [
    "# Do test here\n",
    "#Testing github push\n",
    "#Testing again "
   ]
  },
  {
   "cell_type": "markdown",
   "id": "b9804fc4",
   "metadata": {},
   "source": [
    "Explain Result of test"
   ]
  },
  {
   "cell_type": "markdown",
   "id": "62dec560",
   "metadata": {},
   "source": [
    "## 4.3 Hypothesis 3\n",
    "**Insert Hypothesis here**"
   ]
  },
  {
   "cell_type": "markdown",
   "id": "55821f53",
   "metadata": {},
   "source": [
    "Explain the test being used\n",
    "\n",
    "Null: The number of hours a student works is independent from the amount of classes they take this quarter. \n",
    "\n",
    "\n",
    "\n",
    "\n",
    "\n"
   ]
  },
  {
   "cell_type": "code",
   "execution_count": null,
   "id": "eac77caf",
   "metadata": {},
   "outputs": [],
   "source": [
    "# Do test here\n",
    "\n",
    "#The more hours a student works, the less classes they are taking this quarter \n",
    "JobHours_NumClass = pd.crosstab(cleaned_df['If you have a job, how much do you work per week?'], cleaned_df['How many classes are you taking this quarter?'])\n",
    "print(JobHours_NumClass)\n",
    "\n",
    "# calculate the chi-square value of the dataset\n",
    "from scipy.stats import chi2\n",
    "from scipy.stats import chi2_contingency\n",
    "# https://docs.scipy.org/doc/scipy/reference/generated/scipy.stats.chi2_contingency.html\n",
    "chi, p, dfree, expected = chi2_contingency(JobHours_NumClass)\n",
    "print(\"calculated chi square value: \" ,chi)\n",
    "print(\"calculated p value: \" ,p)\n",
    "print(\"degree of freedom: \", dfree)\n",
    "print('\\n')\n",
    "\n",
    "print(\"for 12 degree of freedom, the chi-square value needed to reject the hypothesis at the 0.001 significance level:\")\n",
    "chi2.ppf(0.999, 12)\n"
   ]
  },
  {
   "cell_type": "markdown",
   "id": "1f0bee50",
   "metadata": {},
   "source": [
    "Explain Result of test\n",
    "\n",
    "In order to reject the hypothesis at the 0.001 significance level for 12 degrees of freedom, the calculated chi-square will have to be above 32.909. \n",
    "\n",
    "Since the our chi square value is 21.55, we accept our null hypothesis. Therefore, the number of hours a student works is independent from the amount of classes they take this quarter. "
   ]
  },
  {
   "cell_type": "markdown",
   "id": "4b765788",
   "metadata": {},
   "source": [
    "## 5. Conclusion\n",
    "Write conclusion here"
   ]
  },
  {
   "cell_type": "code",
   "execution_count": null,
   "id": "5a650fc4",
   "metadata": {},
   "outputs": [],
   "source": []
  }
 ],
 "metadata": {
  "kernelspec": {
   "display_name": "Python 3 (ipykernel)",
   "language": "python",
   "name": "python3"
  },
  "language_info": {
   "codemirror_mode": {
    "name": "ipython",
    "version": 3
   },
   "file_extension": ".py",
   "mimetype": "text/x-python",
   "name": "python",
   "nbconvert_exporter": "python",
   "pygments_lexer": "ipython3",
   "version": "3.11.5"
  }
 },
 "nbformat": 4,
 "nbformat_minor": 5
}
