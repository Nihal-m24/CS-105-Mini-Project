{
 "cells": [
  {
   "cell_type": "markdown",
   "id": "0a982d9f",
   "metadata": {},
   "source": [
    "## CS105 Mini-Project\n",
    "Worked in by:\n",
    "\n",
    "**Kevin Chin, Muhammad Memon, Zain Ashraf, Zian Ibrahim**"
   ]
  },
  {
   "cell_type": "code",
   "execution_count": 1,
   "id": "92296e22",
   "metadata": {},
   "outputs": [
    {
     "data": {
      "text/html": [
       "<div>\n",
       "<style scoped>\n",
       "    .dataframe tbody tr th:only-of-type {\n",
       "        vertical-align: middle;\n",
       "    }\n",
       "\n",
       "    .dataframe tbody tr th {\n",
       "        vertical-align: top;\n",
       "    }\n",
       "\n",
       "    .dataframe thead th {\n",
       "        text-align: right;\n",
       "    }\n",
       "</style>\n",
       "<table border=\"1\" class=\"dataframe\">\n",
       "  <thead>\n",
       "    <tr style=\"text-align: right;\">\n",
       "      <th></th>\n",
       "      <th>What is your current class standing?</th>\n",
       "      <th>What is your gender?</th>\n",
       "      <th>Do you currently have a job?</th>\n",
       "      <th>If you have a job, how much do you work per week?</th>\n",
       "      <th>If you have a job, do you work on or off campus?</th>\n",
       "      <th>What is your GPA?</th>\n",
       "      <th>How satisfied are you with your current GPA?</th>\n",
       "      <th>How many classes are you taking this quarter?</th>\n",
       "      <th>How many hours per week do you typically spend studying/preparing for class (reading ahead, homework, general studying, etc.)?</th>\n",
       "    </tr>\n",
       "  </thead>\n",
       "  <tbody>\n",
       "    <tr>\n",
       "      <th>0</th>\n",
       "      <td>Senior</td>\n",
       "      <td>Male</td>\n",
       "      <td>No</td>\n",
       "      <td>0</td>\n",
       "      <td>0</td>\n",
       "      <td>3.0-3.5</td>\n",
       "      <td>4.0</td>\n",
       "      <td>4</td>\n",
       "      <td>10-20 hours per week</td>\n",
       "    </tr>\n",
       "    <tr>\n",
       "      <th>1</th>\n",
       "      <td>Junior</td>\n",
       "      <td>Male</td>\n",
       "      <td>No</td>\n",
       "      <td>0</td>\n",
       "      <td>0</td>\n",
       "      <td>3.0-3.5</td>\n",
       "      <td>3.0</td>\n",
       "      <td>4</td>\n",
       "      <td>5-10 hours per week</td>\n",
       "    </tr>\n",
       "    <tr>\n",
       "      <th>2</th>\n",
       "      <td>Senior</td>\n",
       "      <td>Female</td>\n",
       "      <td>Yes</td>\n",
       "      <td>Between 5-10 hours</td>\n",
       "      <td>Off campus</td>\n",
       "      <td>3.5-4.0</td>\n",
       "      <td>5.0</td>\n",
       "      <td>4</td>\n",
       "      <td>10-20 hours per week</td>\n",
       "    </tr>\n",
       "    <tr>\n",
       "      <th>3</th>\n",
       "      <td>Junior</td>\n",
       "      <td>Male</td>\n",
       "      <td>Yes</td>\n",
       "      <td>Between 5-10 hours</td>\n",
       "      <td>Off campus</td>\n",
       "      <td>3.5-4.0</td>\n",
       "      <td>5.0</td>\n",
       "      <td>3</td>\n",
       "      <td>5-10 hours per week</td>\n",
       "    </tr>\n",
       "    <tr>\n",
       "      <th>4</th>\n",
       "      <td>Senior</td>\n",
       "      <td>Male</td>\n",
       "      <td>No</td>\n",
       "      <td>0</td>\n",
       "      <td>0</td>\n",
       "      <td>2.5-3.0</td>\n",
       "      <td>3.0</td>\n",
       "      <td>4</td>\n",
       "      <td>10-20 hours per week</td>\n",
       "    </tr>\n",
       "  </tbody>\n",
       "</table>\n",
       "</div>"
      ],
      "text/plain": [
       "  What is your current class standing? What is your gender?  \\\n",
       "0                               Senior                 Male   \n",
       "1                               Junior                 Male   \n",
       "2                               Senior               Female   \n",
       "3                               Junior                 Male   \n",
       "4                               Senior                 Male   \n",
       "\n",
       "  Do you currently have a job?  \\\n",
       "0                           No   \n",
       "1                           No   \n",
       "2                          Yes   \n",
       "3                          Yes   \n",
       "4                           No   \n",
       "\n",
       "  If you have a job, how much do you work per week?  \\\n",
       "0                                                 0   \n",
       "1                                                 0   \n",
       "2                                Between 5-10 hours   \n",
       "3                                Between 5-10 hours   \n",
       "4                                                 0   \n",
       "\n",
       "  If you have a job, do you work on or off campus? What is your GPA?  \\\n",
       "0                                                0           3.0-3.5   \n",
       "1                                                0           3.0-3.5   \n",
       "2                                       Off campus           3.5-4.0   \n",
       "3                                       Off campus           3.5-4.0   \n",
       "4                                                0           2.5-3.0   \n",
       "\n",
       "   How satisfied are you with your current GPA?  \\\n",
       "0                                           4.0   \n",
       "1                                           3.0   \n",
       "2                                           5.0   \n",
       "3                                           5.0   \n",
       "4                                           3.0   \n",
       "\n",
       "  How many classes are you taking this quarter?  \\\n",
       "0                                             4   \n",
       "1                                             4   \n",
       "2                                             4   \n",
       "3                                             3   \n",
       "4                                             4   \n",
       "\n",
       "  How many hours per week do you typically spend studying/preparing for class (reading ahead, homework, general studying, etc.)?  \n",
       "0                               10-20 hours per week                                                                              \n",
       "1                                5-10 hours per week                                                                              \n",
       "2                               10-20 hours per week                                                                              \n",
       "3                                5-10 hours per week                                                                              \n",
       "4                               10-20 hours per week                                                                              "
      ]
     },
     "execution_count": 1,
     "metadata": {},
     "output_type": "execute_result"
    }
   ],
   "source": [
    "import pandas as pd\n",
    "import matplotlib.pyplot as plt\n",
    "import seaborn as sns\n",
    "\n",
    "df = pd.read_csv(\"sample_data.csv\")\n",
    "cleaned_df = df.loc[:, ['What is your current class standing?', 'What is your gender?', 'Do you currently have a job?', \n",
    "                    'If you have a job, how much do you work per week?', \n",
    "                    'If you have a job, do you work on or off campus?', \n",
    "                    'What is your GPA?', \n",
    "                    'How satisfied are you with your current GPA?',\n",
    "                    'How many classes are you taking this quarter?', \n",
    "                    'How many hours per week do you typically spend studying/preparing for class (reading ahead, homework, general studying, etc.)?']]\n",
    "cleaned_df.loc[:, 'Do you currently have a job?'] = cleaned_df.loc[:, 'Do you currently have a job?'].fillna(0)\n",
    "cleaned_df.loc[:, 'If you have a job, how much do you work per week?'] = cleaned_df.loc[:, 'If you have a job, how much do you work per week?'].fillna(0)\n",
    "cleaned_df.loc[:, 'If you have a job, do you work on or off campus?'] = cleaned_df.loc[:, 'If you have a job, do you work on or off campus?'].fillna(0)\n",
    "cleaned_df.head()"
   ]
  },
  {
   "cell_type": "markdown",
   "id": "e8b4a3dd-1e79-41db-9564-e77f64420870",
   "metadata": {},
   "source": [
    "## 1. What we are Anaylsing\n",
    "\n",
    "The data we have for this anaylsis is some general information of the students. For example, we have the class standing, gender, gpa, how satisfied they are with the gpa, how much time they spend in studying and the number of classes thet are taking this quarter.\n",
    "\n",
    "We also have data in regards to them having a job. For example, we have data on whether they have a job or not, if they work on campus or off campus and how an estimate of how many hours a week they work\n",
    "\n",
    "## 2. The Correlation we are observing\n",
    "What we are trying to see through this data is the correlation of having a job and a students academic performace. \n",
    "We will examine and anaylse the data using several factors to see the correlation. "
   ]
  },
  {
   "cell_type": "markdown",
   "id": "ff5fea96",
   "metadata": {},
   "source": [
    "## 3.1 Relationship between Genders and Jobs"
   ]
  },
  {
   "cell_type": "code",
   "execution_count": 2,
   "id": "0a3c04b4",
   "metadata": {
    "scrolled": true
   },
   "outputs": [
    {
     "data": {
      "text/plain": [
       "<Axes: xlabel='What is your gender?'>"
      ]
     },
     "execution_count": 2,
     "metadata": {},
     "output_type": "execute_result"
    },
    {
     "data": {
      "image/png": "[encoded data removed]",
      "text/plain": [
       "<Figure size 640x480 with 1 Axes>"
      ]
     },
     "metadata": {},
     "output_type": "display_data"
    }
   ],
   "source": [
    "genderGroupingTable = pd.crosstab(cleaned_df['What is your gender?'], cleaned_df['Do you currently have a job?'])\n",
    "genderGroupingTable.plot.bar(stacked = True)"
   ]
  },
  {
   "cell_type": "markdown",
   "id": "f3abaebf",
   "metadata": {},
   "source": [
    "For this anaylsis, we will simply count the number of individuals from each gender that have a job and those who don't. We will then display it in a stacked bar graph to see an accurate represnetaion of each genders job situation.\n",
    "\n",
    "In this data we notice that an equal proportion of Male and Female students who participated in this survey have a job."
   ]
  },
  {
   "cell_type": "markdown",
   "id": "40a71413",
   "metadata": {},
   "source": [
    "## 3.2 Students GPA in Relation to Job"
   ]
  },
  {
   "cell_type": "code",
   "execution_count": 50,
   "id": "06e5182b",
   "metadata": {},
   "outputs": [
    {
     "data": {
      "text/plain": [
       "<Axes: xlabel='Do you currently have a job?'>"
      ]
     },
     "execution_count": 50,
     "metadata": {},
     "output_type": "execute_result"
    },
    {
     "data": {
      "image/png": "[encoded data removed]",
      "text/plain": [
       "<Figure size 640x480 with 1 Axes>"
      ]
     },
     "metadata": {},
     "output_type": "display_data"
    }
   ],
   "source": [
    "GPA_JobTable = pd.crosstab(cleaned_df['Do you currently have a job?'],cleaned_df['What is your GPA?'])\n",
    "#print(GPA_JobTable)\n",
    "GPA_JobTable.plot.bar()\n",
    "#plt.yticks(range(0, max(GPA_JobTable.max()) + 1, 1))"
   ]
  },
  {
   "cell_type": "code",
   "execution_count": null,
   "id": "f87cd902",
   "metadata": {},
   "outputs": [],
   "source": []
  },
  {
   "cell_type": "markdown",
   "id": "3f3db2d4",
   "metadata": {},
   "source": [
    "Explanation of what we did and what result we got\n",
    "\n",
    "Kevin"
   ]
  },
  {
   "cell_type": "markdown",
   "id": "e2a7eb3d",
   "metadata": {},
   "source": [
    "## 3.3 Relationship between having a job and their satisfaction of GPA"
   ]
  },
  {
   "cell_type": "code",
   "execution_count": 49,
   "id": "37c59f5e",
   "metadata": {
    "scrolled": true
   },
   "outputs": [
    {
     "data": {
      "image/png": "[encoded data removed]",
      "text/plain": [
       "<Figure size 2000x2000 with 5 Axes>"
      ]
     },
     "metadata": {},
     "output_type": "display_data"
    }
   ],
   "source": [
    "Job_SGPA_Pie = pd.crosstab(cleaned_df['Do you currently have a job?'], cleaned_df['How satisfied are you with your current GPA?'])\n",
    "Job_SGPA_Pie.plot.pie(subplots=True, autopct='%1.1f%%', figsize=(20, 20))\n",
    "\n",
    "#plt.legend(title='Legend', bbox_to_anchor=(1, 0.5), loc='center left')\n",
    "plt.show()"
   ]
  },
  {
   "cell_type": "markdown",
   "id": "7f9f1dd4",
   "metadata": {},
   "source": [
    "Explanation of what we did and what result we got\n",
    "\n",
    "Kevin\n",
    "\n"
   ]
  },
  {
   "cell_type": "markdown",
   "id": "c66d05ab",
   "metadata": {},
   "source": [
    "## 3.4 Relationship between having a job (hours they work), the amount they study and their GPA"
   ]
  },
  {
   "cell_type": "code",
   "execution_count": 5,
   "id": "1bcbda5c",
   "metadata": {},
   "outputs": [],
   "source": [
    "#Muhammad"
   ]
  },
  {
   "cell_type": "markdown",
   "id": "233a4a9c",
   "metadata": {},
   "source": [
    "Explanation of what we did and what result we got"
   ]
  },
  {
   "cell_type": "markdown",
   "id": "e752f41f",
   "metadata": {},
   "source": [
    "## 3.5 Relationship between GPA of working on campus and off campus"
   ]
  },
  {
   "cell_type": "code",
   "execution_count": 6,
   "id": "5a35d5a2",
   "metadata": {},
   "outputs": [],
   "source": [
    "#zain"
   ]
  },
  {
   "cell_type": "markdown",
   "id": "265339fc",
   "metadata": {},
   "source": [
    "Explanation of what we did and what result we got"
   ]
  },
  {
   "cell_type": "markdown",
   "id": "2faaaea4",
   "metadata": {},
   "source": [
    "## 3.6 Relationship between having a job, amount of classes they take and their gpa"
   ]
  },
  {
   "cell_type": "code",
   "execution_count": 7,
   "id": "5285203e",
   "metadata": {},
   "outputs": [],
   "source": [
    "#Zian"
   ]
  },
  {
   "cell_type": "markdown",
   "id": "401c350b",
   "metadata": {},
   "source": [
    "Explanation of what we did and what result we got"
   ]
  },
  {
   "cell_type": "markdown",
   "id": "4b321348",
   "metadata": {},
   "source": [
    "## 3.7 more questions"
   ]
  },
  {
   "cell_type": "code",
   "execution_count": 8,
   "id": "b6d99787",
   "metadata": {},
   "outputs": [],
   "source": [
    "#Zain"
   ]
  },
  {
   "cell_type": "markdown",
   "id": "303c580a",
   "metadata": {},
   "source": [
    "Explanation of what we did and what result we got"
   ]
  },
  {
   "cell_type": "markdown",
   "id": "4df777b3",
   "metadata": {},
   "source": [
    "## 3.8 More Questions"
   ]
  },
  {
   "cell_type": "code",
   "execution_count": 9,
   "id": "ae162ff9",
   "metadata": {},
   "outputs": [],
   "source": [
    "#Zian"
   ]
  },
  {
   "cell_type": "markdown",
   "id": "d5c4f33a",
   "metadata": {},
   "source": [
    "Explanation of what we did and what result we got"
   ]
  },
  {
   "cell_type": "markdown",
   "id": "55f6ac6a",
   "metadata": {},
   "source": [
    "## 4.1 Hypothesis 1\n",
    "**Insert Hypothesis here**"
   ]
  },
  {
   "cell_type": "markdown",
   "id": "26259782",
   "metadata": {},
   "source": [
    "Explain the test being used"
   ]
  },
  {
   "cell_type": "code",
   "execution_count": 10,
   "id": "dd066405",
   "metadata": {},
   "outputs": [],
   "source": [
    "# Do test here\n",
    "# I am udpating this on my branch lets see what happens"
   ]
  },
  {
   "cell_type": "markdown",
   "id": "ed33e4e2",
   "metadata": {},
   "source": [
    "Explain Result of test"
   ]
  },
  {
   "cell_type": "markdown",
   "id": "fa86df77",
   "metadata": {},
   "source": [
    "## 4.2 Hypothesis 2\n",
    "**Insert Hypothesis here**"
   ]
  },
  {
   "cell_type": "markdown",
   "id": "7b00aab3",
   "metadata": {},
   "source": [
    "Explain the test being used"
   ]
  },
  {
   "cell_type": "code",
   "execution_count": 11,
   "id": "400dc32e",
   "metadata": {},
   "outputs": [],
   "source": [
    "# Do test here\n",
    "#Testing github push\n",
    "#Testing again "
   ]
  },
  {
   "cell_type": "markdown",
   "id": "b9804fc4",
   "metadata": {},
   "source": [
    "Explain Result of test"
   ]
  },
  {
   "cell_type": "markdown",
   "id": "62dec560",
   "metadata": {},
   "source": [
    "## 4.3 Hypothesis 3\n",
    "**Insert Hypothesis here**"
   ]
  },
  {
   "cell_type": "markdown",
   "id": "55821f53",
   "metadata": {},
   "source": [
    "Explain the test being used"
   ]
  },
  {
   "cell_type": "code",
   "execution_count": 12,
   "id": "eac77caf",
   "metadata": {},
   "outputs": [],
   "source": [
    "# Do test here"
   ]
  },
  {
   "cell_type": "markdown",
   "id": "1f0bee50",
   "metadata": {},
   "source": [
    "Explain Result of test"
   ]
  },
  {
   "cell_type": "markdown",
   "id": "4b765788",
   "metadata": {},
   "source": [
    "## 5. Conclusion\n",
    "Write conclusion here"
   ]
  }
 ],
 "metadata": {
  "kernelspec": {
   "display_name": "Python 3 (ipykernel)",
   "language": "python",
   "name": "python3"
  },
  "language_info": {
   "codemirror_mode": {
    "name": "ipython",
    "version": 3
   },
   "file_extension": ".py",
   "mimetype": "text/x-python",
   "name": "python",
   "nbconvert_exporter": "python",
   "pygments_lexer": "ipython3",
   "version": "3.11.5"
  }
 },
 "nbformat": 4,
 "nbformat_minor": 5
}
